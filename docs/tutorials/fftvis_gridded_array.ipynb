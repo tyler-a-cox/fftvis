{
 "cells": [
  {
   "cell_type": "markdown",
   "id": "611edba3-a666-412a-9aa2-5dd2e03344d8",
   "metadata": {},
   "source": [
    "# Running `fftvis` on Gridded Arrays"
   ]
  },
  {
   "cell_type": "markdown",
   "id": "d6493a16-2ac4-47fd-8f6f-4ae294af31ed",
   "metadata": {},
   "source": [
    "<div class=\"alert alert-warning\">\n",
    "\n",
    "__Warning__\n",
    "\n",
    "Before running this tutorial, you should make sure you understand the basic concepts and algorithm that `fftvis` uses. You can read up on that here.\n",
    "</div>"
   ]
  },
  {
   "cell_type": "code",
   "execution_count": 1,
   "id": "3a26ed82-971a-47c3-807f-9e6cd74a6be5",
   "metadata": {},
   "outputs": [
    {
     "name": "stderr",
     "output_type": "stream",
     "text": [
      "/home/kartikmandar/anaconda3/envs/matvis-env/lib/python3.11/site-packages/pyuvdata/analytic_beam.py:174: UserWarning: basis_vector_type was not defined, defaulting to azimuth and zenith_angle.\n",
      "  warnings.warn(\n"
     ]
    }
   ],
   "source": [
    "# Standard imports\n",
    "import numpy as np\n",
    "import healpy as hp\n",
    "from astropy.time import Time\n",
    "import matplotlib.pyplot as plt\n",
    "\n",
    "# HERA-stack imports\n",
    "import fftvis\n",
    "import matvis\n",
    "from hera_sim.antpos import hex_array\n",
    "from pyuvdata.telescopes import Telescope\n",
    "from pyuvdata.analytic_beam import AiryBeam"
   ]
  },
  {
   "cell_type": "markdown",
   "id": "6db45573-29bd-4ca3-bd5f-1020f959e9a7",
   "metadata": {},
   "source": [
    "## Mathematical Prelimaries"
   ]
  },
  {
   "cell_type": "markdown",
   "id": "db71ba69-473f-4c74-9009-bb364374513e",
   "metadata": {},
   "source": [
    "Simulating radio interferometer visibilities involves calculating the contribution of many sky sources to the signal correlation measured by each baseline pair. For point sources, this is mathematically expressed as a sum:\n",
    "\n",
    "$$\n",
    "V(\\mathbf{b}) \\approx \\sum_{j=1}^{N_{\\rm sources}} c_j \\, e^{-2\\pi i \\nu \\mathbf{b} \\cdot \\mathbf{x}_j/c}\n",
    "$$\n",
    "\n",
    "Evaluating this sum directly is computationally intensive, scaling as $\\mathcal{O}(N_{\\rm sources} N_{\\rm bls})$, which becomes prohibitive for large source catalogs ($N_{\\rm sources}$) or many baselines ($N_{\\rm bls}$). `fftvis` accelerates this computation significantly by using the non-uniform Fast Fourier Transform (NUFFT), specifically using the high-performance `finufft` library. The exact NUFFT approach and its computational scaling depend on the geometric layout of the array baselines.\n",
    "\n",
    "For the general case where array baseline vectors $\\mathbf{b}_k$ do not form a regular grid (or when considering effects that break perfect regularity, such as errors in antenna placement), `fftvis` treats both the source positions $\\mathbf{x}_j$ and the target baseline coordinates $\\mathbf{u}_k = (\\nu/c)\\mathbf{b}_k$ as non-uniform. This \"non-uniform to non-uniform\" calculation is handled using a **Type 3 NUFFT**. This algorithm internally uses an intermediate uniform grid to perform the bulk of the computation via a standard FFT. The computational cost scales approximately as $\\mathcal{O}(N_{\\rm sources} w^d + N_{\\rm grid} \\log N_{\\rm grid} + N_{\\rm bls} w^d)$. Here, $w$ relates to the desired precision, $d$ is the number of dimensions (2 or 3), and $N_{\\rm grid,int}$ is the size of the intermediate grid. Most notably, $N_{\\rm grid}$ depends on the product of the maximum sky source extent and the maximum baseline extent (in wavelengths), and can become quite large, especially for wide fields or long baselines, impacting the computational performance.\n",
    "\n",
    "However, a more efficient approach is possible if the array's baseline vectors $\\mathbf{b}_k$ inherently form a regular Cartesian grid (meaning $b_x = k \\Delta b_x$, $b_y = l \\Delta b_y$, etc., for fixed spacings $\\Delta b_x, \\Delta b_y$). Since the source positions $\\mathbf{x}_j$ remain non-uniform, this becomes a \"non-uniform to uniform\" problem, ideally suited for a **Type 1 NUFFT**. The Type 1 NUFFT computes visibilities directly onto a uniform output grid covering the extent of the baseline coordinates. Let $N_{\\rm unif}$ be the number of points in this target uniform $uv$-grid. The computational scaling for the Type 1 NUFFT is approximately $\\mathcal{O}(N_{\\rm sources} w^d + N_{\\rm unif} \\log N_{\\rm unif})$.\n",
    "\n",
    "Comparing the two, the Type 1 NUFFT can be significantly faster than Type 3 if its $N_{\\rm unif} \\log N_{\\rm unif}$ term is considerably smaller than the corresponding $N_{\\rm grid} \\log N_{\\rm grid} + N_{\\rm bls} w^d$ terms from Type 3. This advantage occurs when the target uniform grid defined by the baselines ($N_{\\rm unif}$) is much smaller than the intermediate grid ($N_{\\rm grid}$) that Type 3 requires to handle the general non-uniform case across the same sky and baseline extents. Therefore, for arrays whose baselines naturally form a compact, regular grid, utilizing a Type 1 NUFFT offers a potential performance boost by using this structure. \n",
    "\n",
    "In the following cells, we simulate an gridded array using `fftvis` and compare the performance when simulating with a Type 1 and Type 3 NUFFT."
   ]
  },
  {
   "cell_type": "markdown",
   "id": "b35eeb4e-77f8-4847-bc64-d768564be996",
   "metadata": {},
   "source": [
    "## Setup Telescope / Observation Parameters"
   ]
  },
  {
   "cell_type": "markdown",
   "id": "ba4b1972-7724-4fc8-bfbb-326d518cc4e4",
   "metadata": {},
   "source": [
    "First, create our antenna positions. We define this as a dictionary, which maps an antenna number to its 3D East-North-Up position relative to the array centre. To test the difference between the Type 1 and Type 3 NUFFTs as used by `fftvis`, we'll use a hexagonally gridded array layout similar to the layout used by the HERA array."
   ]
  },
  {
   "cell_type": "code",
   "execution_count": 2,
   "id": "c34dee48-59b4-4a14-a9c6-10b2f63b556e",
   "metadata": {},
   "outputs": [],
   "source": [
    "# define antenna array positions\n",
    "antpos = hex_array(11, split_core=True, outriggers=2)"
   ]
  },
  {
   "cell_type": "markdown",
   "id": "c740bc7b-517e-4f62-b288-6c9a1f094c9d",
   "metadata": {},
   "source": [
    "Next, we define the beam to be used by all antennas in the array. Unlike `matvis` and `pyuvsim`, `fftvis` currently restricts users to a single beam for all antennas. The specified beam must be a `UVBeam` or `AnalyticBeam` object from `pyuvdata`. Alternatively, you can create a custom `AnalyticBeam` class (see the pyuvdata tutorial on `UVBeam` objects for guidance). For this simulation, we will use a simple, frequency-dependent Airy beam corresponding to a dish size of 14 meters."
   ]
  },
  {
   "cell_type": "code",
   "execution_count": 3,
   "id": "f68dd61e-4f2a-48a1-af2f-cc79c6ea38e2",
   "metadata": {},
   "outputs": [],
   "source": [
    "# define antenna beam using pyuvdata.analytic_beam.AiryBeam with a dish size of 14 meters\n",
    "beam = AiryBeam(diameter=14.0)"
   ]
  },
  {
   "cell_type": "markdown",
   "id": "e9bcf2cc-0ab5-4a22-8b87-6dab6ede2433",
   "metadata": {},
   "source": [
    "We also required to provide `fftvis` with the observational configuration including a frequency array, a time array, and a telescope location. The frequency array specifies the observation frequencies in units of Hz. The time array defines the observation times using an `astropy.time.Time` object, with times specified in Julian Dates and configured with the appropriate format and scale. The telescope location specifies the geographic position of the array and can be defined either using `astropy.coordinates.EarthLocation` with a known site name or through `pyuvdata.telescopes.Telescope` by selecting a predefined telescope location supported within `pyuvdata`."
   ]
  },
  {
   "cell_type": "code",
   "execution_count": 4,
   "id": "8fb30e2c-d98d-464f-83bb-6c0eaf78313c",
   "metadata": {},
   "outputs": [],
   "source": [
    "# define a list of frequencies in units of Hz\n",
    "nfreqs = 2\n",
    "freqs = np.linspace(100e6, 120e6, nfreqs)"
   ]
  },
  {
   "cell_type": "code",
   "execution_count": 5,
   "id": "fee91e09-ec8b-4566-b027-bd7ea42ac016",
   "metadata": {},
   "outputs": [],
   "source": [
    "# define a list of times with an astropy time.Time object\n",
    "ntimes = 3\n",
    "times = Time(np.linspace(2459845, 2459845.05, ntimes), format='jd', scale='utc')"
   ]
  },
  {
   "cell_type": "code",
   "execution_count": 6,
   "id": "cd7be8ff-3cf0-4e89-a865-14965b5d00cb",
   "metadata": {},
   "outputs": [],
   "source": [
    "from astropy.coordinates import EarthLocation\n",
    "\n",
    "# define using astropy.coordinates.EarthLocation\n",
    "telescope_loc = EarthLocation.of_site('meerkat')\n",
    "\n",
    "# define the telescope location using the pyuvdata.telescopes.Telescope\n",
    "telescope_loc = Telescope.from_known_telescopes('hera').location"
   ]
  },
  {
   "cell_type": "markdown",
   "id": "3f585f86-b388-4e72-aa9d-493c68d181dd",
   "metadata": {},
   "source": [
    "## Setup Sky Model\n",
    "\n",
    "Like `matvis`, `fftvis` makes the point source approximation -- that is it makes breaks a continuous sky model into a discrete number of point sources that it sums over when computing the visibilities. In this notebook, we'll assume the point source approximation by discretizing the sky with a randomly generated HEALpix map."
   ]
  },
  {
   "cell_type": "code",
   "execution_count": 7,
   "id": "c285bc67-1d9d-4c8f-a414-c5426fd6f883",
   "metadata": {},
   "outputs": [],
   "source": [
    "# number of sources\n",
    "nside = 64\n",
    "nsource = hp.nside2npix(nside)\n",
    "\n",
    "# pixels can be defined as point sources randomly distributed over the full sky\n",
    "ra = np.deg2rad(np.random.uniform(0, 360, nsource))        # ra of each source (in rad)\n",
    "dec = np.deg2rad(np.random.uniform(-90, 90.0, nsource))    # dec of each source (in rad)\n",
    "\n",
    "# define sky model using healpix map\n",
    "dec, ra = hp.pix2ang(nside, np.arange(nsource))\n",
    "dec -= np.pi / 2\n",
    "\n",
    "# define the flux of the sources as a function of frequency. Here, we define smooth spectrum sources\n",
    "flux = np.random.uniform(0, 1, nsource)                              # flux of each source at 100MHz (in Jy)\n",
    "alpha = np.ones(nsource) * -0.8                      # sp. index of each source\n",
    "\n",
    "# Now get the (Nsource, Nfreq) array of the flux of each source at each frequency.\n",
    "flux_allfreq = ((freqs[:, np.newaxis] / freqs[0]) ** alpha.T * flux.T).T"
   ]
  },
  {
   "cell_type": "markdown",
   "id": "2920b621-7ece-4ca5-b0e4-85d428a9b3d5",
   "metadata": {},
   "source": [
    "## Run `fftvis`\n",
    "\n",
    "Once the simulation parameters are set, the computation is run using the `fftvis.simulate` function. By default, `fftvis` first checks if the provided antenna positions form a regular grid. It does this by using the shortest two non-collinear baseline vectors to define a potential grid basis and then verifying if all antenna positions fit onto that grid. This approach allows `fftvis` to recognize various grid layouts, even those that are skewed or rotated relative to the coordinate axes (like hexagonal arrays, which are essentially skewed regular grids). If a grid is detected, `fftvis` automatically uses the computationally faster Type 1 NUFFT. Since this automatic detection might be unexpected or hide potential configuration issues, the `force_use_type3` parameter is available. Setting this allows a user to enforce the use of the more general Type 3 NUFFT, even if the antenna positions technically form a grid. Additionally, `fftvis` logs a message to inform the user whenever it detects a gridded array configuration and switches to the Type 1 transform.\n",
    "\n",
    "Below, we perform a simulation of a HERA-like array using both the Type 1 and Type 3 transforms and compare their output."
   ]
  },
  {
   "cell_type": "code",
   "execution_count": 8,
   "id": "41ed5c6a-e6ad-42f7-8975-905d219a3ce2",
   "metadata": {},
   "outputs": [],
   "source": [
    "# Define subset of baselines we're interested in for simulating\n",
    "baselines = [(i, j) for i in range(len(antpos)) for j in range(len(antpos))]"
   ]
  },
  {
   "cell_type": "code",
   "execution_count": 9,
   "id": "b8c75eaa-1b3f-47cf-8f97-3d02cce21e4c",
   "metadata": {},
   "outputs": [
    {
     "name": "stdout",
     "output_type": "stream",
     "text": [
      "CPU times: user 5.02 s, sys: 324 ms, total: 5.34 s\n",
      "Wall time: 2.42 s\n"
     ]
    }
   ],
   "source": [
    "%%time\n",
    "# simulate visibilities with the new API\n",
    "vis_vc_gridded = fftvis.simulate_vis(\n",
    "    ants=antpos,\n",
    "    fluxes=flux_allfreq,\n",
    "    ra=ra,\n",
    "    dec=dec,\n",
    "    freqs=freqs,\n",
    "    times=times.jd,\n",
    "    telescope_loc=telescope_loc,\n",
    "    beam=beam,\n",
    "    polarized=False,\n",
    "    nprocesses=1,\n",
    "    baselines=baselines,\n",
    "    force_use_type3=False, # This is the default value\n",
    ")"
   ]
  },
  {
   "cell_type": "code",
   "execution_count": 10,
   "id": "0e713a70-f88d-4342-a677-2b0cae932433",
   "metadata": {},
   "outputs": [
    {
     "name": "stdout",
     "output_type": "stream",
     "text": [
      "CPU times: user 17.2 s, sys: 1.43 s, total: 18.6 s\n",
      "Wall time: 2.17 s\n"
     ]
    }
   ],
   "source": [
    "%%time\n",
    "# simulate visibilities \n",
    "vis_vc_type3 = fftvis.simulate_vis(\n",
    "    ants=antpos,\n",
    "    fluxes=flux_allfreq,\n",
    "    ra=ra,\n",
    "    dec=dec,\n",
    "    freqs=freqs,\n",
    "    times=times.jd,\n",
    "    telescope_loc=telescope_loc,\n",
    "    beam=beam,\n",
    "    polarized=False,\n",
    "    nprocesses=1,\n",
    "    baselines=baselines,\n",
    "    force_use_type3=True, # Even though the antenna layout is gridded we force use type 3\n",
    ")"
   ]
  },
  {
   "cell_type": "code",
   "execution_count": 11,
   "id": "8507e9ef-7bd1-4913-b14a-57d5729e11f2",
   "metadata": {},
   "outputs": [
    {
     "data": {
      "text/plain": [
       "True"
      ]
     },
     "execution_count": 11,
     "metadata": {},
     "output_type": "execute_result"
    }
   ],
   "source": [
    "np.allclose(vis_vc_gridded, vis_vc_type3)"
   ]
  },
  {
   "cell_type": "code",
   "execution_count": null,
   "id": "090e43d8-7ff5-47ae-80db-61af3700106f",
   "metadata": {},
   "outputs": [],
   "source": []
  }
 ],
 "metadata": {
  "kernelspec": {
   "display_name": "Python 3 (ipykernel)",
   "language": "python",
   "name": "python3"
  },
  "language_info": {
   "codemirror_mode": {
    "name": "ipython",
    "version": 3
   },
   "file_extension": ".py",
   "mimetype": "text/x-python",
   "name": "python",
   "nbconvert_exporter": "python",
   "pygments_lexer": "ipython3",
   "version": "3.11.9"
  }
 },
 "nbformat": 4,
 "nbformat_minor": 5
}
